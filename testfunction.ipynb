{
 "cells": [
  {
   "cell_type": "code",
   "id": "initial_id",
   "metadata": {
    "collapsed": true,
    "ExecuteTime": {
     "end_time": "2024-05-28T01:46:14.197741Z",
     "start_time": "2024-05-28T01:46:14.178481Z"
    }
   },
   "source": [
    "import re\n",
    "def tokenize(sentence):\n",
    "    return [i for i in re.split(r\"([-.\\\"',:? !\\$#@~()*&\\^%;\\[\\]/\\\\\\+<>\\n=])\", sentence) if i!='' and i!=' ' and i!='\\n']"
   ],
   "execution_count": 15,
   "outputs": []
  },
  {
   "metadata": {
    "ExecuteTime": {
     "end_time": "2024-05-28T01:46:15.078607Z",
     "start_time": "2024-05-28T01:46:15.074097Z"
    }
   },
   "cell_type": "code",
   "source": "question = \"How many food item is shown in the bar graph?\"",
   "id": "c2b69494efd7e150",
   "execution_count": 16,
   "outputs": []
  },
  {
   "metadata": {
    "ExecuteTime": {
     "end_time": "2024-05-28T01:46:16.019333Z",
     "start_time": "2024-05-28T01:46:15.997565Z"
    }
   },
   "cell_type": "code",
   "source": "tokenize(question)",
   "id": "1e6ded67a6e3a60e",
   "execution_count": 17,
   "outputs": []
  },
  {
   "metadata": {
    "ExecuteTime": {
     "end_time": "2024-05-28T01:46:16.941674Z",
     "start_time": "2024-05-28T01:46:16.931967Z"
    }
   },
   "cell_type": "code",
   "source": [
    "def tokenize_mcb(s):\n",
    "    t_str = s.lower()\n",
    "    for i in [r'\\?',r'\\!',r'\\'',r'\\\"',r'\\$',r'\\:',r'\\@',r'\\(',r'\\)',r'\\,',r'\\.',r'\\;']:\n",
    "        t_str = re.sub( i, '', t_str)\n",
    "    for i in [r'\\-',r'\\/']:\n",
    "        t_str = re.sub( i, ' ', t_str)\n",
    "    q_list = re.sub(r'\\?','',t_str.lower()).split(' ')\n",
    "    q_list = list(filter(lambda x: len(x) > 0, q_list))\n",
    "    return q_list"
   ],
   "id": "eb33146d179f3eba",
   "execution_count": 18,
   "outputs": []
  },
  {
   "metadata": {
    "ExecuteTime": {
     "end_time": "2024-05-28T01:46:17.720167Z",
     "start_time": "2024-05-28T01:46:17.699077Z"
    }
   },
   "cell_type": "code",
   "source": "tokenize_mcb(question)",
   "id": "9636a17d50023d08",
   "execution_count": 19,
   "outputs": []
  },
  {
   "metadata": {
    "ExecuteTime": {
     "end_time": "2024-05-28T01:46:21.280106Z",
     "start_time": "2024-05-28T01:46:18.501325Z"
    }
   },
   "cell_type": "code",
   "source": [
    "import click\n",
    "\n",
    "if click.confirm('测试是不是',default=False):\n",
    "    print(\"true\")\n",
    "else:\n",
    "    print(\"false\")"
   ],
   "id": "a84ba66f91500dba",
   "execution_count": 20,
   "outputs": []
  },
  {
   "metadata": {
    "ExecuteTime": {
     "end_time": "2024-05-28T01:46:38.053187Z",
     "start_time": "2024-05-28T01:46:38.008371Z"
    }
   },
   "cell_type": "code",
   "source": [
    "from PIL import Image\n",
    "\n",
    "img = Image.open(\"data/ChartQA/test/png/166.png\")\n",
    "img"
   ],
   "id": "722af1e4e4ef2449",
   "execution_count": 21,
   "outputs": []
  },
  {
   "metadata": {
    "ExecuteTime": {
     "end_time": "2024-05-28T01:46:41.105310Z",
     "start_time": "2024-05-28T01:46:41.090401Z"
    }
   },
   "cell_type": "code",
   "source": [
    "import numpy as np\n",
    "\n",
    "img = np.array(img)"
   ],
   "id": "310b1d9724145a8c",
   "execution_count": 22,
   "outputs": []
  },
  {
   "metadata": {
    "ExecuteTime": {
     "end_time": "2024-05-28T01:46:42.369857Z",
     "start_time": "2024-05-28T01:46:42.355820Z"
    }
   },
   "cell_type": "code",
   "source": "img.transpose(2,0,1).shape",
   "id": "8c443dc9a60c7d8d",
   "execution_count": 23,
   "outputs": []
  },
  {
   "metadata": {
    "ExecuteTime": {
     "end_time": "2024-05-28T01:46:43.266145Z",
     "start_time": "2024-05-28T01:46:43.246663Z"
    }
   },
   "cell_type": "code",
   "source": "img.shape",
   "id": "f2ae514ff246279a",
   "execution_count": 24,
   "outputs": []
  },
  {
   "metadata": {
    "ExecuteTime": {
     "end_time": "2024-05-28T01:46:50.735124Z",
     "start_time": "2024-05-28T01:46:50.715869Z"
    }
   },
   "cell_type": "code",
   "source": [
    "import json\n",
    "def getChartQA(qa_files):\n",
    "    answers = list()\n",
    "    for file in qa_files:\n",
    "        qas = json.load(open(file, 'r',encoding=\"utf-8\"))\n",
    "        for qa in qas:\n",
    "            answers.append(qa[\"label\"])\n",
    "    return list(set(answers))"
   ],
   "id": "26e49e7b7af13656",
   "execution_count": 25,
   "outputs": []
  },
  {
   "metadata": {},
   "cell_type": "code",
   "source": "answers = getChartQA([\"data/ChartQA/train/train_augmented.json\"])",
   "id": "53e41c482100c4af",
   "execution_count": null,
   "outputs": []
  },
  {
   "metadata": {},
   "cell_type": "code",
   "source": "len(answers)",
   "id": "236ae3b1dc4d499b",
   "execution_count": null,
   "outputs": []
  },
  {
   "metadata": {},
   "cell_type": "code",
   "source": [
    "with open(\"test.txt\",'r') as f:\n",
    "    lines = f.readlines()\n",
    "    lines = [line.strip() for line in lines]\n",
    "    word2idx = {w_n:w for w,w_n in enumerate(lines)}\n",
    "    \n",
    "print(word2idx)"
   ],
   "id": "64c7be8200e1e7ea",
   "execution_count": null,
   "outputs": []
  },
  {
   "metadata": {},
   "cell_type": "code",
   "source": [
    "import evaluate\n",
    "evaluate.list_evaluation_modules(include_community=True,with_details=True) # 查看支持的模型"
   ],
   "id": "dd7545175165eff1",
   "execution_count": null,
   "outputs": []
  },
  {
   "metadata": {},
   "cell_type": "code",
   "source": "accuracy = evaluate.load(\"accuracy\")",
   "id": "6858bb8be310e091",
   "execution_count": null,
   "outputs": []
  },
  {
   "metadata": {},
   "cell_type": "code",
   "source": "print(accuracy.description)",
   "id": "a8cbc5a6c5d85469",
   "execution_count": null,
   "outputs": []
  },
  {
   "metadata": {},
   "cell_type": "code",
   "source": "print(accuracy.inputs_description)",
   "id": "6c6f7f5ed0fa9ec5",
   "execution_count": null,
   "outputs": []
  },
  {
   "metadata": {},
   "cell_type": "code",
   "source": "accuracy.compute(references=[1,2,1,1],predictions=[1,2,1,2])",
   "id": "2361d559aadb6093",
   "execution_count": null,
   "outputs": []
  },
  {
   "metadata": {},
   "cell_type": "markdown",
   "source": "",
   "id": "d57c6610d907f706"
  },
  {
   "metadata": {},
   "cell_type": "code",
   "source": [
    "from model.models.VGG import VGGModule\n",
    "from data.FigureQADatasets import dataloader\n",
    "from tqdm import tqdm\n",
    "\n",
    "\n",
    "model = VGGModule(\"cpu\")\n",
    "for i,batch in tqdm(enumerate(dataloader)):\n",
    "    outputs = model(batch[\"image\"])\n",
    "    print(outputs.shape)\n",
    "    print(type(outputs))"
   ],
   "id": "7e4967d5bb84da6b",
   "execution_count": null,
   "outputs": []
  },
  {
   "metadata": {},
   "cell_type": "code",
   "source": [
    "from PIL import Image\n",
    "\n",
    "image = Image.open(\"data/ChartQA/train/png/34.png\")"
   ],
   "id": "c0e08d19b65bf301",
   "execution_count": null,
   "outputs": []
  },
  {
   "metadata": {},
   "cell_type": "code",
   "source": [
    "from transformers import TrOCRProcessor, VisionEncoderDecoderModel\n",
    "processor = TrOCRProcessor.from_pretrained(\"microsoft/trocr-base-handwritten\")\n",
    "pixel_values = processor(images=image, return_tensors=\"pt\").pixel_values\n",
    "\n",
    "pixel_values.shape\n"
   ],
   "id": "54e5c2d6d30ef78c",
   "execution_count": null,
   "outputs": []
  },
  {
   "metadata": {},
   "cell_type": "code",
   "source": [
    "generated_ids = model.generate(pixel_values)\n",
    "generated_text = processor.batch_decode(generated_ids, skip_special_tokens=True)[0]"
   ],
   "id": "d7068881a8ccdb48",
   "execution_count": null,
   "outputs": []
  },
  {
   "metadata": {},
   "cell_type": "code",
   "source": [
    "import clip \n",
    "\n",
    "model,transformer = clip.load(\"ViT-B/32\")\n"
   ],
   "id": "4c9fb7ede5d07931",
   "execution_count": null,
   "outputs": []
  },
  {
   "metadata": {},
   "cell_type": "code",
   "source": "model",
   "id": "fc912382e0888f6e",
   "execution_count": null,
   "outputs": []
  },
  {
   "metadata": {},
   "cell_type": "code",
   "source": "transformer",
   "id": "13f60db3419dd9d0",
   "execution_count": null,
   "outputs": []
  },
  {
   "metadata": {
    "ExecuteTime": {
     "end_time": "2024-05-28T01:46:07.833807Z",
     "start_time": "2024-05-28T01:46:07.775853Z"
    }
   },
   "cell_type": "code",
   "source": [
    "from data.FigureQADatasets import dataloader\n",
    "from tqdm import tqdm\n",
    "\n",
    "\n",
    "for i,batch in tqdm(enumerate(dataloader)):\n",
    "    outputs = model.encode_image(batch[\"image\"])\n",
    "    print(outputs.shape)\n",
    "    print(type(outputs))"
   ],
   "id": "63e529d98aa11c11",
   "execution_count": 14,
   "outputs": []
  },
  {
   "metadata": {},
   "cell_type": "code",
   "execution_count": null,
   "source": "",
   "id": "99c88af5866d931e",
   "outputs": []
  },
  {
   "metadata": {},
   "cell_type": "code",
   "execution_count": null,
   "source": "",
   "id": "7e636bcea2e7901f",
   "outputs": []
  },
  {
   "metadata": {},
   "cell_type": "code",
   "source": "model,transformer = clip.load(\"ViT-B/32\")",
   "id": "8f3c425f7fd6d975",
   "execution_count": null,
   "outputs": []
  },
  {
   "metadata": {},
   "cell_type": "code",
   "source": "dir(model)",
   "id": "f230b553febdf129",
   "execution_count": null,
   "outputs": []
  },
  {
   "metadata": {},
   "cell_type": "code",
   "source": [
    "import clip\n",
    "model,transformer = clip.load(\"ViT-B/32\")\n",
    "type(model)"
   ],
   "id": "2313211c31f3135c",
   "execution_count": null,
   "outputs": []
  },
  {
   "metadata": {},
   "cell_type": "code",
   "source": "model.encode_image",
   "id": "e4e74bdd07173264",
   "execution_count": null,
   "outputs": []
  },
  {
   "metadata": {
    "ExecuteTime": {
     "end_time": "2024-05-27T09:42:30.926436Z",
     "start_time": "2024-05-27T09:42:28.129777Z"
    }
   },
   "cell_type": "code",
   "source": [
    "from tqdm import tqdm\n",
    "from data.FigureQADatasets import dataloader\n",
    "import clip\n",
    "\n",
    "model,transformer = clip.load(\"ViT-B/32\")\n",
    "\n",
    "for i,batch in tqdm(enumerate(dataloader)):\n",
    "    print(batch[\"question\"])\n",
    "    outputs = model.encode_text(batch[\"question\"])\n",
    "    print(outputs.shape)\n",
    "    break"
   ],
   "id": "41f00e55db3b9832",
   "execution_count": 7,
   "outputs": []
  },
  {
   "metadata": {
    "ExecuteTime": {
     "end_time": "2024-05-29T17:02:43.486982Z",
     "start_time": "2024-05-29T17:02:43.304637Z"
    }
   },
   "cell_type": "code",
   "source": "from transformers import AutoTokenizer,AutoModel",
   "id": "3472c7765538a95c",
   "outputs": [],
   "execution_count": 7
  },
  {
   "metadata": {
    "ExecuteTime": {
     "end_time": "2024-05-29T17:02:45.015755Z",
     "start_time": "2024-05-29T17:02:44.924439Z"
    }
   },
   "cell_type": "code",
   "source": "tokenizer = AutoTokenizer.from_pretrained(r'E:\\FigureQANet\\transformers_bert\\microsoft\\codebert')",
   "id": "ebf9fe8a68579046",
   "outputs": [],
   "execution_count": 8
  },
  {
   "metadata": {
    "ExecuteTime": {
     "end_time": "2024-05-29T17:02:48.736726Z",
     "start_time": "2024-05-29T17:02:46.244661Z"
    }
   },
   "cell_type": "code",
   "source": "text_encoder = AutoModel.from_pretrained(r'E:\\FigureQANet\\transformers_bert\\microsoft\\codebert')",
   "id": "a482658663ea3dc",
   "outputs": [],
   "execution_count": 9
  },
  {
   "metadata": {
    "ExecuteTime": {
     "end_time": "2024-05-29T17:02:51.186713Z",
     "start_time": "2024-05-29T17:02:50.869300Z"
    }
   },
   "cell_type": "code",
   "source": [
    "question = \"Which bar has the largest value?\"\n",
    "\n",
    "tokenized_text = tokenizer(question, return_tensors=\"pt\",padding=True)\n",
    "outputs = text_encoder(tokenized_text.input_ids).last_hidden_state\n",
    "\n",
    "print(outputs.size())\n"
   ],
   "id": "4c077f42ce788d09",
   "outputs": [
    {
     "name": "stdout",
     "output_type": "stream",
     "text": [
      "torch.Size([1, 9, 768])\n"
     ]
    }
   ],
   "execution_count": 10
  },
  {
   "metadata": {
    "ExecuteTime": {
     "end_time": "2024-05-28T15:07:36.443730Z",
     "start_time": "2024-05-28T15:07:32.542424Z"
    }
   },
   "cell_type": "code",
   "source": [
    "from torchvision import models\n",
    "\n",
    "model = models.vgg16(weights=models.VGG16_Weights.DEFAULT)"
   ],
   "id": "26e802c18fc276ce",
   "execution_count": 8,
   "outputs": []
  },
  {
   "metadata": {
    "ExecuteTime": {
     "end_time": "2024-05-28T15:10:26.458503Z",
     "start_time": "2024-05-28T15:10:26.443464Z"
    }
   },
   "cell_type": "code",
   "source": "model.features",
   "id": "9b87a27e0eb9ede4",
   "execution_count": 10,
   "outputs": []
  },
  {
   "metadata": {
    "ExecuteTime": {
     "end_time": "2024-05-28T17:40:53.405754Z",
     "start_time": "2024-05-28T17:40:47.084774Z"
    }
   },
   "cell_type": "code",
   "source": [
    "from transformers import TrOCRProcessor, VisionEncoderDecoderModel\n",
    "\n",
    "processor = TrOCRProcessor.from_pretrained('microsoft/trocr-base-handwritten')\n",
    "model = VisionEncoderDecoderModel.from_pretrained('microsoft/trocr-base-handwritten')"
   ],
   "id": "e999398f90d4384b",
   "execution_count": 2,
   "outputs": []
  },
  {
   "metadata": {
    "ExecuteTime": {
     "end_time": "2024-05-28T17:48:17.666882Z",
     "start_time": "2024-05-28T17:48:16.967088Z"
    }
   },
   "cell_type": "code",
   "source": [
    "from paddleocr import PaddleOCR, draw_ocr\n",
    "from ast import literal_eval\n",
    "import json\n",
    "\n",
    "paddleocr = PaddleOCR(lang=\"en\",ocr_version=\"PP-OCRv4\",show_log = False,use_gpu=False)\n",
    "\n",
    "def paddle_scan(paddleocr,img_path_or_nparray):\n",
    "    result = paddleocr.ocr(img_path_or_nparray,cls=True)\n",
    "    result = result[0]\n",
    "    boxes = [line[0] for line in result]       #boundign box \n",
    "    txts = [line[1][0] for line in result]     #raw text\n",
    "    scores = [line[1][1] for line in result]   # scores\n",
    "    return  txts, result\n",
    "\n",
    "# perform ocr scan\n",
    "receipt_texts, receipt_boxes = paddle_scan(paddleocr,receipt_image_array)\n",
    "print(50*\"--\",\"\\ntext only:\\n\",receipt_texts)\n",
    "print(50*\"--\",\"\\nocr boxes:\\n\",receipt_boxes)\n"
   ],
   "id": "29d3184aed9f7bf",
   "execution_count": 3,
   "outputs": []
  },
  {
   "metadata": {
    "ExecuteTime": {
     "end_time": "2024-05-28T17:54:19.881022Z",
     "start_time": "2024-05-28T17:54:06.094657Z"
    }
   },
   "cell_type": "code",
   "source": [
    "from paddleocr import PaddleOCR, draw_ocr\n",
    "from ast import literal_eval\n",
    "import json\n",
    "\n",
    "paddleocr = PaddleOCR(lang=\"en\",ocr_version=\"PP-OCRv4\",show_log = False,use_gpu=False)"
   ],
   "id": "1342e85721daeeb4",
   "execution_count": 5,
   "outputs": []
  },
  {
   "metadata": {
    "ExecuteTime": {
     "end_time": "2024-05-28T17:54:54.154995Z",
     "start_time": "2024-05-28T17:54:53.297207Z"
    }
   },
   "cell_type": "code",
   "source": "result = paddleocr.ocr(\"data/ChartQA/test/png/166.png\",cls=True)",
   "id": "5a2435f82a5f76e3",
   "execution_count": 6,
   "outputs": []
  },
  {
   "metadata": {
    "ExecuteTime": {
     "end_time": "2024-05-28T19:53:13.811144Z",
     "start_time": "2024-05-28T19:53:13.790128Z"
    }
   },
   "cell_type": "code",
   "source": "paddleocr",
   "id": "89991831a1d35153",
   "execution_count": 8,
   "outputs": []
  },
  {
   "metadata": {
    "ExecuteTime": {
     "end_time": "2024-05-28T19:53:45.087851Z",
     "start_time": "2024-05-28T19:53:45.077337Z"
    }
   },
   "cell_type": "code",
   "source": "print(type(paddleocr))",
   "id": "c2ab984ccff7c0c5",
   "execution_count": 9,
   "outputs": []
  },
  {
   "metadata": {},
   "cell_type": "code",
   "execution_count": null,
   "source": [
    "from data.FigureQADatasets import dataloader\n",
    "\n",
    "for i,batch in tqdm(enumerate(dataloader)):\n",
    "    print(batch[\"answer_id\"])"
   ],
   "id": "ef78fd3823ad1264",
   "outputs": []
  },
  {
   "metadata": {
    "ExecuteTime": {
     "end_time": "2024-05-29T14:23:11.050415Z",
     "start_time": "2024-05-29T14:23:10.825210Z"
    }
   },
   "cell_type": "code",
   "source": [
    "import torch\n",
    "import matplotlib.pyplot as plt\n",
    "import seaborn as sns\n",
    "from matplotlib import font_manager\n",
    "\n",
    "# 假设这是你的输入句子和对应的注意力权重\n",
    "# 注意力权重是一个num_heads x sequence_length x sequence_length的矩阵\n",
    "sentence = [\"我\", \"是\", \"一\", \"个\", \"程\", \"序\", \"员\"]\n",
    "attention_weights = torch.randn(1, len(sentence), len(sentence))  # 假设这是模型输出的注意力权重\n",
    "\n",
    "# 将注意力权重转换为numpy数组\n",
    "attention_weights = attention_weights.numpy()\n",
    "\n",
    "# 创建一个heatmap\n",
    "plt.figure(figsize=(10, 10))\n",
    "ax = sns.heatmap(attention_weights[0], annot=True, cmap=\"viridis\", xticklabels=sentence, yticklabels=sentence)\n",
    "\n",
    "# 设置字体，以便支持中文字符\n",
    "# font = font_manager.FontProperties(fname='/path/to/your/font.ttf')\n",
    "# ax.set_xticklabels(ax.get_xticklabels(), fontproperties=font)\n",
    "# ax.set_yticklabels(ax.get_yticklabels(), fontproperties=font)\n",
    "\n",
    "# 设置标题和标签\n",
    "plt.title(\"heatmap\")\n",
    "plt.xlabel(\"input\")\n",
    "plt.ylabel(\"input\")\n",
    "\n",
    "# 显示图表\n",
    "plt.show()"
   ],
   "id": "3689f392d5bea24",
   "outputs": [
    {
     "name": "stderr",
     "output_type": "stream",
     "text": [
      "D:\\Anaconda3\\envs\\FigureQANet\\lib\\site-packages\\seaborn\\utils.py:61: UserWarning: Glyph 25105 (\\N{CJK UNIFIED IDEOGRAPH-6211}) missing from current font.\n",
      "  fig.canvas.draw()\n",
      "D:\\Anaconda3\\envs\\FigureQANet\\lib\\site-packages\\seaborn\\utils.py:61: UserWarning: Glyph 26159 (\\N{CJK UNIFIED IDEOGRAPH-662F}) missing from current font.\n",
      "  fig.canvas.draw()\n",
      "D:\\Anaconda3\\envs\\FigureQANet\\lib\\site-packages\\seaborn\\utils.py:61: UserWarning: Glyph 19968 (\\N{CJK UNIFIED IDEOGRAPH-4E00}) missing from current font.\n",
      "  fig.canvas.draw()\n",
      "D:\\Anaconda3\\envs\\FigureQANet\\lib\\site-packages\\seaborn\\utils.py:61: UserWarning: Glyph 20010 (\\N{CJK UNIFIED IDEOGRAPH-4E2A}) missing from current font.\n",
      "  fig.canvas.draw()\n",
      "D:\\Anaconda3\\envs\\FigureQANet\\lib\\site-packages\\seaborn\\utils.py:61: UserWarning: Glyph 31243 (\\N{CJK UNIFIED IDEOGRAPH-7A0B}) missing from current font.\n",
      "  fig.canvas.draw()\n",
      "D:\\Anaconda3\\envs\\FigureQANet\\lib\\site-packages\\seaborn\\utils.py:61: UserWarning: Glyph 24207 (\\N{CJK UNIFIED IDEOGRAPH-5E8F}) missing from current font.\n",
      "  fig.canvas.draw()\n",
      "D:\\Anaconda3\\envs\\FigureQANet\\lib\\site-packages\\seaborn\\utils.py:61: UserWarning: Glyph 21592 (\\N{CJK UNIFIED IDEOGRAPH-5458}) missing from current font.\n",
      "  fig.canvas.draw()\n",
      "D:\\Anaconda3\\envs\\FigureQANet\\lib\\site-packages\\IPython\\core\\pylabtools.py:152: UserWarning: Glyph 25105 (\\N{CJK UNIFIED IDEOGRAPH-6211}) missing from current font.\n",
      "  fig.canvas.print_figure(bytes_io, **kw)\n",
      "D:\\Anaconda3\\envs\\FigureQANet\\lib\\site-packages\\IPython\\core\\pylabtools.py:152: UserWarning: Glyph 26159 (\\N{CJK UNIFIED IDEOGRAPH-662F}) missing from current font.\n",
      "  fig.canvas.print_figure(bytes_io, **kw)\n",
      "D:\\Anaconda3\\envs\\FigureQANet\\lib\\site-packages\\IPython\\core\\pylabtools.py:152: UserWarning: Glyph 19968 (\\N{CJK UNIFIED IDEOGRAPH-4E00}) missing from current font.\n",
      "  fig.canvas.print_figure(bytes_io, **kw)\n",
      "D:\\Anaconda3\\envs\\FigureQANet\\lib\\site-packages\\IPython\\core\\pylabtools.py:152: UserWarning: Glyph 20010 (\\N{CJK UNIFIED IDEOGRAPH-4E2A}) missing from current font.\n",
      "  fig.canvas.print_figure(bytes_io, **kw)\n",
      "D:\\Anaconda3\\envs\\FigureQANet\\lib\\site-packages\\IPython\\core\\pylabtools.py:152: UserWarning: Glyph 31243 (\\N{CJK UNIFIED IDEOGRAPH-7A0B}) missing from current font.\n",
      "  fig.canvas.print_figure(bytes_io, **kw)\n",
      "D:\\Anaconda3\\envs\\FigureQANet\\lib\\site-packages\\IPython\\core\\pylabtools.py:152: UserWarning: Glyph 24207 (\\N{CJK UNIFIED IDEOGRAPH-5E8F}) missing from current font.\n",
      "  fig.canvas.print_figure(bytes_io, **kw)\n",
      "D:\\Anaconda3\\envs\\FigureQANet\\lib\\site-packages\\IPython\\core\\pylabtools.py:152: UserWarning: Glyph 21592 (\\N{CJK UNIFIED IDEOGRAPH-5458}) missing from current font.\n",
      "  fig.canvas.print_figure(bytes_io, **kw)\n"
     ]
    },
    {
     "data": {
      "text/plain": [
       "<Figure size 1000x1000 with 2 Axes>"
      ],
      "image/png": "[encoded data removed]"
     },
     "metadata": {},
     "output_type": "display_data"
    }
   ],
   "execution_count": 3
  },
  {
   "metadata": {
    "ExecuteTime": {
     "end_time": "2024-05-30T02:42:44.933813Z",
     "start_time": "2024-05-30T02:42:44.911773Z"
    }
   },
   "cell_type": "code",
   "source": "100352/196",
   "id": "573b6dcc4fabd595",
   "outputs": [
    {
     "data": {
      "text/plain": [
       "512.0"
      ]
     },
     "execution_count": 1,
     "metadata": {},
     "output_type": "execute_result"
    }
   ],
   "execution_count": 1
  },
  {
   "metadata": {
    "ExecuteTime": {
     "end_time": "2024-05-30T02:43:02.125020Z",
     "start_time": "2024-05-30T02:43:02.112053Z"
    }
   },
   "cell_type": "code",
   "source": "4096/512",
   "id": "cc475543616d8151",
   "outputs": [
    {
     "data": {
      "text/plain": [
       "8.0"
      ]
     },
     "execution_count": 2,
     "metadata": {},
     "output_type": "execute_result"
    }
   ],
   "execution_count": 2
  },
  {
   "metadata": {
    "ExecuteTime": {
     "end_time": "2024-05-30T09:52:43.194961Z",
     "start_time": "2024-05-30T09:52:43.178344Z"
    }
   },
   "cell_type": "code",
   "source": [
    "import torch\n",
    "import torch.nn as nn\n",
    "\n",
    "\n",
    "a = torch.randn(1, 196, 512)\n",
    "b = torch.randn(1, 30, 768)\n",
    "\n",
    "liner1 = nn.Linear(768, 512)"
   ],
   "id": "c06e6785956c551c",
   "outputs": [],
   "execution_count": 23
  },
  {
   "metadata": {
    "ExecuteTime": {
     "end_time": "2024-05-30T09:52:43.966763Z",
     "start_time": "2024-05-30T09:52:43.956765Z"
    }
   },
   "cell_type": "code",
   "source": [
    "c = liner1(b)\n",
    "print(c.shape)"
   ],
   "id": "9a9857487e5fa639",
   "outputs": [
    {
     "name": "stdout",
     "output_type": "stream",
     "text": [
      "torch.Size([1, 30, 512])\n"
     ]
    }
   ],
   "execution_count": 24
  },
  {
   "metadata": {
    "ExecuteTime": {
     "end_time": "2024-05-30T09:52:44.927193Z",
     "start_time": "2024-05-30T09:52:44.913668Z"
    }
   },
   "cell_type": "code",
   "source": "crossAttention = nn.MultiheadAttention(embed_dim=512,num_heads=8)",
   "id": "b61a78ad4b273551",
   "outputs": [],
   "execution_count": 25
  },
  {
   "metadata": {
    "ExecuteTime": {
     "end_time": "2024-05-30T09:52:45.763407Z",
     "start_time": "2024-05-30T09:52:45.747676Z"
    }
   },
   "cell_type": "code",
   "source": [
    "query = a.permute(1,0,2)\n",
    "key,value = c.permute(1,0,2),c.permute(1,0,2)"
   ],
   "id": "1784a138390ad9ad",
   "outputs": [],
   "execution_count": 26
  },
  {
   "metadata": {
    "ExecuteTime": {
     "end_time": "2024-05-30T09:52:46.609830Z",
     "start_time": "2024-05-30T09:52:46.598626Z"
    }
   },
   "cell_type": "code",
   "source": "attn_output, attn_output_weights = crossAttention(query, key, value)",
   "id": "c0760c5d43ee4823",
   "outputs": [],
   "execution_count": 27
  },
  {
   "metadata": {
    "ExecuteTime": {
     "end_time": "2024-05-30T09:52:47.308362Z",
     "start_time": "2024-05-30T09:52:47.295359Z"
    }
   },
   "cell_type": "code",
   "source": "attn_output.permute(1,0,2).shape, ",
   "id": "3c401d967fc88d11",
   "outputs": [
    {
     "data": {
      "text/plain": [
       "(torch.Size([1, 30, 512]),)"
      ]
     },
     "execution_count": 28,
     "metadata": {},
     "output_type": "execute_result"
    }
   ],
   "execution_count": 28
  },
  {
   "metadata": {
    "ExecuteTime": {
     "end_time": "2024-05-30T09:52:47.980871Z",
     "start_time": "2024-05-30T09:52:47.967894Z"
    }
   },
   "cell_type": "code",
   "source": "attention_weights = attn_output_weights.detach().numpy()",
   "id": "70c4c3da9cc88252",
   "outputs": [],
   "execution_count": 29
  },
  {
   "metadata": {
    "ExecuteTime": {
     "end_time": "2024-05-30T09:53:09.074331Z",
     "start_time": "2024-05-30T09:53:08.623649Z"
    }
   },
   "cell_type": "code",
   "source": [
    "import torch\n",
    "import matplotlib.pyplot as plt\n",
    "import seaborn as sns\n",
    "\n",
    "plt.figure(figsize=(10, 10))\n",
    "ax = sns.heatmap(attention_weights[0], annot=False, cmap=\"viridis\")\n",
    "\n",
    "plt.title(\"heatmap\")\n",
    "plt.xlabel(\"input\")\n",
    "plt.ylabel(\"input\")"
   ],
   "id": "bf9965a34de272c3",
   "outputs": [
    {
     "data": {
      "text/plain": [
       "Text(95.72222222222221, 0.5, 'input')"
      ]
     },
     "execution_count": 31,
     "metadata": {},
     "output_type": "execute_result"
    },
    {
     "data": {
      "text/plain": [
       "<Figure size 1000x1000 with 2 Axes>"
      ],
      "image/png": "[encoded data removed]"
     },
     "metadata": {},
     "output_type": "display_data"
    }
   ],
   "execution_count": 31
  },
  {
   "metadata": {
    "ExecuteTime": {
     "end_time": "2024-05-30T11:31:46.002189Z",
     "start_time": "2024-05-30T11:31:45.980191Z"
    }
   },
   "cell_type": "code",
   "source": [
    "chart_features = torch.randn(1,196,512)\n",
    "question_features = torch.randn(1,30,512)\n",
    "\n",
    "query = chart_features.permute(1, 0, 2)\n",
    "value = key = question_features.permute(1, 0, 2)\n",
    "# value = question_features.permute(1, 0, 2)\n",
    "attn_chart_que, attn_weights_chart_que = crossAttention(query, key, value)\n",
    "print(attn_chart_que.permute(1,0,2).shape)\n",
    "\n",
    "# query=question key=value=value\n",
    "query = question_features.permute(1, 0, 2)\n",
    "value = key = chart_features.permute(1, 0, 2)\n",
    "attn_que_chart, attn_weights_que_chart = crossAttention(query, key, value)\n",
    "print(attn_que_chart.permute(1,0,2).shape)\n"
   ],
   "id": "7aff7eab95a074a6",
   "outputs": [
    {
     "name": "stdout",
     "output_type": "stream",
     "text": [
      "torch.Size([1, 196, 512])\n",
      "torch.Size([1, 30, 512])\n"
     ]
    }
   ],
   "execution_count": 33
  },
  {
   "metadata": {
    "ExecuteTime": {
     "end_time": "2024-05-30T12:01:34.858213Z",
     "start_time": "2024-05-30T12:01:34.786815Z"
    }
   },
   "cell_type": "code",
   "source": [
    "a = torch.randn(8, 196, 256)\n",
    "b = torch.randn(8, 30, 256)\n",
    "\n",
    "c = torch.einsum(\"bij,bkj->bik\", a, b)"
   ],
   "id": "dc396f685f772c2c",
   "outputs": [],
   "execution_count": 41
  },
  {
   "metadata": {
    "ExecuteTime": {
     "end_time": "2024-05-30T12:01:43.856285Z",
     "start_time": "2024-05-30T12:01:43.832284Z"
    }
   },
   "cell_type": "code",
   "source": "c.size()",
   "id": "2095cb1ed8bd19cc",
   "outputs": [
    {
     "data": {
      "text/plain": [
       "torch.Size([8, 196, 30])"
      ]
     },
     "execution_count": 42,
     "metadata": {},
     "output_type": "execute_result"
    }
   ],
   "execution_count": 42
  },
  {
   "metadata": {},
   "cell_type": "code",
   "outputs": [],
   "execution_count": null,
   "source": "",
   "id": "2e5555c4b9e2d128"
  }
 ],
 "metadata": {
  "kernelspec": {
   "display_name": "FigureQaNet",
   "language": "python",
   "name": "figureqanet"
  },
  "language_info": {
   "codemirror_mode": {
    "name": "ipython",
    "version": 2
   },
   "file_extension": ".py",
   "mimetype": "text/x-python",
   "name": "python",
   "nbconvert_exporter": "python",
   "pygments_lexer": "ipython2",
   "version": "2.7.6"
  }
 },
 "nbformat": 4,
 "nbformat_minor": 5
}
